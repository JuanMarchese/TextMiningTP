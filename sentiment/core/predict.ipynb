{
 "cells": [
  {
   "cell_type": "code",
   "execution_count": 2,
   "metadata": {},
   "outputs": [],
   "source": [
    "import os\n",
    "import pandas as pd\n",
    "from functions import functions\n",
    "import utils"
   ]
  },
  {
   "cell_type": "code",
   "execution_count": 1,
   "metadata": {},
   "outputs": [
    {
     "output_type": "stream",
     "name": "stdout",
     "text": "Untitled.ipynb               model_tweet.bin\n\u001b[1m\u001b[34m__pycache__\u001b[m\u001b[m                  model_tweet.vec\n\u001b[1m\u001b[34mdata\u001b[m\u001b[m                         model_tweet_barbi.bin\netl.py                       model_tweet_barbi.vec\ngenerate_bitcoin_file.py     predict.ipynb\ngenerate_file.py             predict_2.py\ngenerate_file_v2.py          predict_bitcoin.py\ngenerate_refactor_bt_file.py tblob.py\nmain.py                      utils.py\n"
    }
   ],
   "source": [
    "!ls"
   ]
  },
  {
   "cell_type": "code",
   "execution_count": 30,
   "metadata": {},
   "outputs": [
    {
     "data": {
      "text/html": [
       "<div>\n",
       "<style scoped>\n",
       "    .dataframe tbody tr th:only-of-type {\n",
       "        vertical-align: middle;\n",
       "    }\n",
       "\n",
       "    .dataframe tbody tr th {\n",
       "        vertical-align: top;\n",
       "    }\n",
       "\n",
       "    .dataframe thead th {\n",
       "        text-align: right;\n",
       "    }\n",
       "</style>\n",
       "<table border=\"1\" class=\"dataframe\">\n",
       "  <thead>\n",
       "    <tr style=\"text-align: right;\">\n",
       "      <th></th>\n",
       "      <th>text</th>\n",
       "      <th>month</th>\n",
       "      <th>name</th>\n",
       "      <th>is_spam</th>\n",
       "      <th>is_news</th>\n",
       "      <th>sentiment</th>\n",
       "      <th>is_news_spam</th>\n",
       "    </tr>\n",
       "  </thead>\n",
       "  <tbody>\n",
       "    <tr>\n",
       "      <th>0</th>\n",
       "      <td>@FinanceExaminer @michaeltg @TheBubbleBubble I...</td>\n",
       "      <td>5</td>\n",
       "      <td>Barbii</td>\n",
       "      <td>0</td>\n",
       "      <td>0</td>\n",
       "      <td>1</td>\n",
       "      <td>NaN</td>\n",
       "    </tr>\n",
       "    <tr>\n",
       "      <th>1</th>\n",
       "      <td>China Authorities Probe Alleged Illegal Bitcoi...</td>\n",
       "      <td>5</td>\n",
       "      <td>Barbii</td>\n",
       "      <td>0</td>\n",
       "      <td>1</td>\n",
       "      <td>-1</td>\n",
       "      <td>NaN</td>\n",
       "    </tr>\n",
       "    <tr>\n",
       "      <th>2</th>\n",
       "      <td>ALERT: Bitcoin Cash (BCH) at Euro 380.81 incre...</td>\n",
       "      <td>5</td>\n",
       "      <td>Barbii</td>\n",
       "      <td>0</td>\n",
       "      <td>1</td>\n",
       "      <td>1</td>\n",
       "      <td>NaN</td>\n",
       "    </tr>\n",
       "    <tr>\n",
       "      <th>3</th>\n",
       "      <td>Pretty cool concept. ð $CHR  #crypto #crypt...</td>\n",
       "      <td>5</td>\n",
       "      <td>Barbii</td>\n",
       "      <td>1</td>\n",
       "      <td>NaN</td>\n",
       "      <td>NaN</td>\n",
       "      <td>NaN</td>\n",
       "    </tr>\n",
       "    <tr>\n",
       "      <th>4</th>\n",
       "      <td>Crypto Market Hits $200 Billion, Bitcoin Ralli...</td>\n",
       "      <td>5</td>\n",
       "      <td>Barbii</td>\n",
       "      <td>1</td>\n",
       "      <td>NaN</td>\n",
       "      <td>NaN</td>\n",
       "      <td>NaN</td>\n",
       "    </tr>\n",
       "  </tbody>\n",
       "</table>\n",
       "</div>"
      ],
      "text/plain": [
       "                                                text  month    name  is_spam  \\\n",
       "0  @FinanceExaminer @michaeltg @TheBubbleBubble I...      5  Barbii        0   \n",
       "1  China Authorities Probe Alleged Illegal Bitcoi...      5  Barbii        0   \n",
       "2  ALERT: Bitcoin Cash (BCH) at Euro 380.81 incre...      5  Barbii        0   \n",
       "3  Pretty cool concept. ð $CHR  #crypto #crypt...      5  Barbii        1   \n",
       "4  Crypto Market Hits $200 Billion, Bitcoin Ralli...      5  Barbii        1   \n",
       "\n",
       "  is_news sentiment  is_news_spam  \n",
       "0       0         1           NaN  \n",
       "1       1        -1           NaN  \n",
       "2       1         1           NaN  \n",
       "3     NaN       NaN           NaN  \n",
       "4     NaN       NaN           NaN  "
      ]
     },
     "execution_count": 30,
     "metadata": {},
     "output_type": "execute_result"
    }
   ],
   "source": [
    "df = pd.read_csv('data/sample.txt', sep='\\t', encoding='ISO-8859-1')\n",
    "df = df.drop_duplicates()\n",
    "df.head()"
   ]
  },
  {
   "cell_type": "markdown",
   "metadata": {},
   "source": [
    "### Reading Excel sample (both train and validation, model is already train)"
   ]
  },
  {
   "cell_type": "code",
   "execution_count": 31,
   "metadata": {},
   "outputs": [
    {
     "data": {
      "text/plain": [
       "0    980\n",
       "1    519\n",
       "Name: is_spam, dtype: int64"
      ]
     },
     "execution_count": 31,
     "metadata": {},
     "output_type": "execute_result"
    }
   ],
   "source": [
    "df = df[['text', 'is_spam', 'is_news', 'sentiment']]\n",
    "df.fillna(0, inplace = True)\n",
    "\n",
    "utils.format_columns(df, 'sentiment')\n",
    "utils.format_columns(df, 'is_news')\n",
    "\n",
    "df.is_spam.value_counts()"
   ]
  },
  {
   "cell_type": "markdown",
   "metadata": {},
   "source": [
    "### Predict with model train with own text filterc"
   ]
  },
  {
   "cell_type": "code",
   "execution_count": 32,
   "metadata": {},
   "outputs": [
    {
     "name": "stderr",
     "output_type": "stream",
     "text": [
      "Warning : `load_model` does not return WordVectorModel or SupervisedModel any more, but a `FastText` object which is very similar.\n",
      "/Users/bsidoruk/Documents/MAESTRIA/project_1/venv_p/lib/python3.7/site-packages/ipykernel_launcher.py:12: SettingWithCopyWarning: \n",
      "A value is trying to be set on a copy of a slice from a DataFrame.\n",
      "Try using .loc[row_indexer,col_indexer] = value instead\n",
      "\n",
      "See the caveats in the documentation: http://pandas.pydata.org/pandas-docs/stable/indexing.html#indexing-view-versus-copy\n",
      "  if sys.path[0] == '':\n"
     ]
    },
    {
     "data": {
      "image/png": "[encoded data removed]",
      "text/plain": [
       "<Figure size 432x288 with 1 Axes>"
      ]
     },
     "metadata": {
      "needs_background": "light"
     },
     "output_type": "display_data"
    },
    {
     "name": "stdout",
     "output_type": "stream",
     "text": [
      "ratio_pos_match 0.7587939698492462, ratio_neg_match 0.4504950495049505\n",
      "All coincidences: 0.39939024390243905\n",
      "All coincidences_plus_0: 0.39939024390243905\n"
     ]
    }
   ],
   "source": [
    "import sys\n",
    "\n",
    "sys.path.append(\"..\")\n",
    "from fastText.python.fasttext_module.fasttext.FastText import load_model\n",
    "\n",
    "model_name = \"model_tweet_barbi.bin\"\n",
    "\n",
    "model = load_model(model_name)\n",
    "\n",
    "df_clean= df[df['is_spam'] == 0]\n",
    "df_clean.sentiment.value_counts()\n",
    "df_clean['text'] = df_clean['text'].apply(lambda x: functions.preprocess_barbi(x))\n",
    "\n",
    "text_clean = df_clean['text'].tolist()\n",
    "pred = model.predict(text_clean)\n",
    "\n",
    "pred_r = utils.reformat_pred(pred, text_clean)\n",
    "df_pred = pd.DataFrame(pred_r, columns = ['label','score','text'])\n",
    "df_merge = pd.merge(df_clean, df_pred, on = 'text')\n",
    "\n",
    "ones_match, zeros_match, all_match, all_or_0_match = utils.plot_results(df_merge)\n",
    "df_merge, _, _, _, _ = utils.generate_scores(df_merge, thr=0)\n",
    "\n"
   ]
  },
  {
   "cell_type": "code",
   "execution_count": 33,
   "metadata": {},
   "outputs": [
    {
     "name": "stdout",
     "output_type": "stream",
     "text": [
      "              precision    recall  f1-score   support\n",
      "\n",
      "        -1.0      0.306     0.450     0.365       202\n",
      "         0.0      0.000     0.000     0.000       384\n",
      "         1.0      0.440     0.759     0.557       398\n",
      "\n",
      "    accuracy                          0.399       984\n",
      "   macro avg      0.249     0.403     0.307       984\n",
      "weighted avg      0.241     0.399     0.300       984\n",
      "\n",
      "0.39939024390243905\n",
      "0.39939024390243905\n"
     ]
    },
    {
     "name": "stderr",
     "output_type": "stream",
     "text": [
      "/Users/bsidoruk/Documents/MAESTRIA/project_1/venv_p/lib/python3.7/site-packages/sklearn/metrics/_classification.py:1272: UndefinedMetricWarning: Precision and F-score are ill-defined and being set to 0.0 in labels with no predicted samples. Use `zero_division` parameter to control this behavior.\n",
      "  _warn_prf(average, modifier, msg_start, len(result))\n"
     ]
    }
   ],
   "source": [
    "from sklearn import metrics\n",
    "\n",
    "# Print the precision and recall, among other metrics\n",
    "print(metrics.classification_report(df_merge['sentiment'],df_merge['sentiment_pred'], digits=3))\n",
    "\n",
    "print(metrics.accuracy_score(df_merge['sentiment'],df_merge['sentiment_pred']))\n",
    "print(metrics.accuracy_score(df_merge['sentiment'],df_merge['sentiment_or_0_pred']))"
   ]
  },
  {
   "cell_type": "markdown",
   "metadata": {},
   "source": [
    "### Stay only with non spam samples and clean text (mauro)"
   ]
  },
  {
   "cell_type": "code",
   "execution_count": 34,
   "metadata": {},
   "outputs": [
    {
     "name": "stderr",
     "output_type": "stream",
     "text": [
      "/Users/bsidoruk/Documents/MAESTRIA/project_1/venv_p/lib/python3.7/site-packages/ipykernel_launcher.py:3: SettingWithCopyWarning: \n",
      "A value is trying to be set on a copy of a slice from a DataFrame.\n",
      "Try using .loc[row_indexer,col_indexer] = value instead\n",
      "\n",
      "See the caveats in the documentation: http://pandas.pydata.org/pandas-docs/stable/indexing.html#indexing-view-versus-copy\n",
      "  This is separate from the ipykernel package so we can avoid doing imports until\n",
      "Warning : `load_model` does not return WordVectorModel or SupervisedModel any more, but a `FastText` object which is very similar.\n",
      "/Users/bsidoruk/Documents/MAESTRIA/project_1/venv_p/lib/python3.7/site-packages/ipykernel_launcher.py:11: SettingWithCopyWarning: \n",
      "A value is trying to be set on a copy of a slice from a DataFrame.\n",
      "Try using .loc[row_indexer,col_indexer] = value instead\n",
      "\n",
      "See the caveats in the documentation: http://pandas.pydata.org/pandas-docs/stable/indexing.html#indexing-view-versus-copy\n",
      "  # This is added back by InteractiveShellApp.init_path()\n"
     ]
    },
    {
     "data": {
      "image/png": "[encoded data removed]",
      "text/plain": [
       "<Figure size 432x288 with 1 Axes>"
      ]
     },
     "metadata": {
      "needs_background": "light"
     },
     "output_type": "display_data"
    },
    {
     "name": "stdout",
     "output_type": "stream",
     "text": [
      "ratio_pos_match 0.7225, ratio_neg_match 0.44660194174757284\n",
      "All coincidences: 0.37722772277227723\n",
      "All coincidences_plus_0: 0.37722772277227723\n"
     ]
    }
   ],
   "source": [
    "df_clean= df[df['is_spam'] == 0]\n",
    "df_clean.sentiment.value_counts()\n",
    "df_clean['text'] = df_clean['text'].apply(lambda x: functions.normalizeForTokenization(x))\n",
    "\n",
    "model_name = \"model_tweet.bin\"\n",
    "\n",
    "model = load_model(model_name)\n",
    "\n",
    "df_clean= df[df['is_spam'] == 0]\n",
    "df_clean.sentiment.value_counts()\n",
    "df_clean['text'] = df_clean['text'].apply(lambda x: functions.normalizeForTokenization(x))\n",
    "\n",
    "text_clean = df_clean['text'].tolist()\n",
    "pred = model.predict(text_clean)\n",
    "\n",
    "pred_r = utils.reformat_pred(pred, text_clean)\n",
    "df_pred = pd.DataFrame(pred_r, columns = ['label','score','text'])\n",
    "df_merge = pd.merge(df_clean, df_pred, on = 'text')\n",
    "\n",
    "ones_match, zeros_match, all_match, all_or_0_match = utils.plot_results(df_merge)\n",
    "df_merge, _, _, _, _ = utils.generate_scores(df_merge, thr=0)"
   ]
  },
  {
   "cell_type": "code",
   "execution_count": 35,
   "metadata": {},
   "outputs": [
    {
     "name": "stdout",
     "output_type": "stream",
     "text": [
      "              precision    recall  f1-score   support\n",
      "\n",
      "        -1.0      0.280     0.447     0.345       206\n",
      "         0.0      0.000     0.000     0.000       404\n",
      "         1.0      0.424     0.723     0.534       400\n",
      "\n",
      "    accuracy                          0.377      1010\n",
      "   macro avg      0.235     0.390     0.293      1010\n",
      "weighted avg      0.225     0.377     0.282      1010\n",
      "\n",
      "0.37722772277227723\n",
      "0.37722772277227723\n"
     ]
    },
    {
     "name": "stderr",
     "output_type": "stream",
     "text": [
      "/Users/bsidoruk/Documents/MAESTRIA/project_1/venv_p/lib/python3.7/site-packages/sklearn/metrics/_classification.py:1272: UndefinedMetricWarning: Precision and F-score are ill-defined and being set to 0.0 in labels with no predicted samples. Use `zero_division` parameter to control this behavior.\n",
      "  _warn_prf(average, modifier, msg_start, len(result))\n"
     ]
    }
   ],
   "source": [
    "# Print the precision and recall, among other metrics\n",
    "print(metrics.classification_report(df_merge['sentiment'],df_merge['sentiment_pred'], digits=3))\n",
    "\n",
    "print(metrics.accuracy_score(df_merge['sentiment'],df_merge['sentiment_pred']))\n",
    "print(metrics.accuracy_score(df_merge['sentiment'],df_merge['sentiment_or_0_pred']))"
   ]
  },
  {
   "cell_type": "markdown",
   "metadata": {},
   "source": [
    "### Pruebo con modelo simple"
   ]
  },
  {
   "cell_type": "code",
   "execution_count": 36,
   "metadata": {},
   "outputs": [
    {
     "name": "stderr",
     "output_type": "stream",
     "text": [
      "/Users/bsidoruk/Documents/MAESTRIA/project_1/venv_p/lib/python3.7/site-packages/ipykernel_launcher.py:5: SettingWithCopyWarning: \n",
      "A value is trying to be set on a copy of a slice from a DataFrame.\n",
      "Try using .loc[row_indexer,col_indexer] = value instead\n",
      "\n",
      "See the caveats in the documentation: http://pandas.pydata.org/pandas-docs/stable/indexing.html#indexing-view-versus-copy\n",
      "  \"\"\"\n",
      "/Users/bsidoruk/Documents/MAESTRIA/project_1/venv_p/lib/python3.7/site-packages/ipykernel_launcher.py:13: SettingWithCopyWarning: \n",
      "A value is trying to be set on a copy of a slice from a DataFrame.\n",
      "Try using .loc[row_indexer,col_indexer] = value instead\n",
      "\n",
      "See the caveats in the documentation: http://pandas.pydata.org/pandas-docs/stable/indexing.html#indexing-view-versus-copy\n",
      "  del sys.path[0]\n"
     ]
    }
   ],
   "source": [
    "from textblob import TextBlob\n",
    "    \n",
    "    \n",
    "df_clean= df[df['is_spam'] == 0]\n",
    "df_clean['text'] = df_clean['text'].apply(lambda x: functions.preprocess_barbi(x))\n",
    "text_clean = df_clean['text'].tolist()\n",
    "\n",
    "blob_l =[]\n",
    "for i,text in enumerate(text_clean):\n",
    "    blob = TextBlob(text)\n",
    "    blob_l.append(blob.sentiment.polarity)\n",
    "\n",
    "df_clean['sentiment_blob'] = blob_l\n"
   ]
  },
  {
   "cell_type": "code",
   "execution_count": 37,
   "metadata": {},
   "outputs": [
    {
     "name": "stdout",
     "output_type": "stream",
     "text": [
      "ratio_pos_match 0.4949748743718593, ratio_neg_match 0.0\n",
      "All coincidences: 0.23979591836734693\n",
      "All coincidences_plus_0: 0.23979591836734693\n"
     ]
    },
    {
     "name": "stderr",
     "output_type": "stream",
     "text": [
      "/Users/bsidoruk/Desktop/repos_barbi/TextMiningTP/sentiment/core/utils.py:81: SettingWithCopyWarning: \n",
      "A value is trying to be set on a copy of a slice from a DataFrame.\n",
      "Try using .loc[row_indexer,col_indexer] = value instead\n",
      "\n",
      "See the caveats in the documentation: http://pandas.pydata.org/pandas-docs/stable/indexing.html#indexing-view-versus-copy\n",
      "  (df['sentiment'] == 1)), 1, 0)\n",
      "/Users/bsidoruk/Desktop/repos_barbi/TextMiningTP/sentiment/core/utils.py:83: SettingWithCopyWarning: \n",
      "A value is trying to be set on a copy of a slice from a DataFrame.\n",
      "Try using .loc[row_indexer,col_indexer] = value instead\n",
      "\n",
      "See the caveats in the documentation: http://pandas.pydata.org/pandas-docs/stable/indexing.html#indexing-view-versus-copy\n",
      "  (df['sentiment'] == -1)), 1, 0)\n",
      "/Users/bsidoruk/Desktop/repos_barbi/TextMiningTP/sentiment/core/utils.py:85: SettingWithCopyWarning: \n",
      "A value is trying to be set on a copy of a slice from a DataFrame.\n",
      "Try using .loc[row_indexer,col_indexer] = value instead\n",
      "\n",
      "See the caveats in the documentation: http://pandas.pydata.org/pandas-docs/stable/indexing.html#indexing-view-versus-copy\n",
      "  (df['zeros_match'] == 1)), 1, 0)\n",
      "/Users/bsidoruk/Desktop/repos_barbi/TextMiningTP/sentiment/core/utils.py:89: SettingWithCopyWarning: \n",
      "A value is trying to be set on a copy of a slice from a DataFrame.\n",
      "Try using .loc[row_indexer,col_indexer] = value instead\n",
      "\n",
      "See the caveats in the documentation: http://pandas.pydata.org/pandas-docs/stable/indexing.html#indexing-view-versus-copy\n",
      "  (df['sentiment_blob'] > -trh))), 1, 0)\n"
     ]
    },
    {
     "data": {
      "text/plain": [
       "(0.4949748743718593, 0.0, 0.23979591836734693, 0.23979591836734693)"
      ]
     },
     "execution_count": 37,
     "metadata": {},
     "output_type": "execute_result"
    }
   ],
   "source": [
    "utils.generate_scores_blob(df_clean, trh=0)\n"
   ]
  },
  {
   "cell_type": "code",
   "execution_count": 13,
   "metadata": {},
   "outputs": [
    {
     "data": {
      "image/png": "[encoded data removed]",
      "text/plain": [
       "<Figure size 432x288 with 1 Axes>"
      ]
     },
     "metadata": {
      "needs_background": "light"
     },
     "output_type": "display_data"
    }
   ],
   "source": [
    "ones_match, zeros_match, all_match, all_or_0_match = utils.plot_results_glob(df_clean)"
   ]
  },
  {
   "cell_type": "markdown",
   "metadata": {},
   "source": [
    "### Mal, voy con expresiones del set de train"
   ]
  },
  {
   "cell_type": "code",
   "execution_count": null,
   "metadata": {},
   "outputs": [],
   "source": [
    "#### Predict twitter file"
   ]
  },
  {
   "cell_type": "code",
   "execution_count": 3,
   "metadata": {},
   "outputs": [
    {
     "output_type": "stream",
     "name": "stderr",
     "text": "b'Skipping line 66486: expected 7 fields, saw 8\\nSkipping line 74692: expected 7 fields, saw 8\\nSkipping line 81031: expected 7 fields, saw 8\\nSkipping line 106401: expected 7 fields, saw 8\\nSkipping line 115416: expected 7 fields, saw 8\\n'\nb'Skipping line 343856: expected 7 fields, saw 8\\n'\nb'Skipping line 420963: expected 7 fields, saw 8\\nSkipping line 450243: expected 7 fields, saw 8\\nSkipping line 458995: expected 7 fields, saw 8\\n'\nb'Skipping line 551549: expected 7 fields, saw 9\\nSkipping line 627480: expected 7 fields, saw 8\\n'\nb'Skipping line 997119: expected 7 fields, saw 8\\n'\nb'Skipping line 219684: expected 7 fields, saw 8\\n'\nb'Skipping line 677653: expected 7 fields, saw 8\\nSkipping line 737175: expected 7 fields, saw 8\\n'\nb'Skipping line 790491: expected 7 fields, saw 8\\n'\nb'Skipping line 1162481: expected 7 fields, saw 8\\nSkipping line 1168202: expected 7 fields, saw 8\\n'\nb'Skipping line 1350373: expected 7 fields, saw 8\\n'\nb'Skipping line 1683065: expected 7 fields, saw 8\\n'\nb'Skipping line 1784407: expected 7 fields, saw 8\\nSkipping line 1791383: expected 7 fields, saw 8\\n'\nb'Skipping line 1847492: expected 7 fields, saw 8\\nSkipping line 1887917: expected 7 fields, saw 8\\n'\nb'Skipping line 122664: expected 7 fields, saw 8\\n'\nb'Skipping line 294529: expected 7 fields, saw 8\\nSkipping line 330052: expected 7 fields, saw 8\\n'\nb'Skipping line 397770: expected 7 fields, saw 8\\nSkipping line 523743: expected 7 fields, saw 8\\n'\nb'Skipping line 586106: expected 7 fields, saw 9\\nSkipping line 591083: expected 7 fields, saw 8\\nSkipping line 629132: expected 7 fields, saw 8\\nSkipping line 644609: expected 7 fields, saw 8\\n'\nb'Skipping line 668068: expected 7 fields, saw 8\\nSkipping line 668597: expected 7 fields, saw 9\\nSkipping line 694494: expected 7 fields, saw 8\\n'\nb'Skipping line 965738: expected 7 fields, saw 8\\nSkipping line 1022441: expected 7 fields, saw 8\\n'\nb'Skipping line 1099904: expected 7 fields, saw 8\\n'\nb'Skipping line 1218588: expected 7 fields, saw 8\\n'\nb'Skipping line 1410745: expected 7 fields, saw 8\\nSkipping line 1421034: expected 7 fields, saw 10\\nSkipping line 1435433: expected 7 fields, saw 8\\nSkipping line 1441579: expected 7 fields, saw 8\\nSkipping line 1441627: expected 7 fields, saw 8\\n'\nb'Skipping line 1457057: expected 7 fields, saw 8\\nSkipping line 1470845: expected 7 fields, saw 8\\nSkipping line 1571247: expected 7 fields, saw 8\\n'\nb'Skipping line 1780367: expected 7 fields, saw 8\\n'\nb'Skipping line 124319: expected 7 fields, saw 8\\n'\nb'Skipping line 342107: expected 7 fields, saw 8\\n'\nb'Skipping line 519000: expected 7 fields, saw 8\\n'\nb'Skipping line 574749: expected 7 fields, saw 9\\n'\nb'Skipping line 746739: expected 7 fields, saw 8\\n'\nb'Skipping line 906939: expected 7 fields, saw 9\\n'\nb'Skipping line 962210: expected 7 fields, saw 8\\n'\nb'Skipping line 1064254: expected 7 fields, saw 8\\nSkipping line 1095517: expected 7 fields, saw 8\\n'\nb'Skipping line 1187444: expected 7 fields, saw 8\\nSkipping line 1187466: expected 7 fields, saw 8\\nSkipping line 1187474: expected 7 fields, saw 8\\nSkipping line 1187480: expected 7 fields, saw 8\\nSkipping line 1187520: expected 7 fields, saw 8\\nSkipping line 1187554: expected 7 fields, saw 8\\nSkipping line 1187572: expected 7 fields, saw 8\\nSkipping line 1187615: expected 7 fields, saw 8\\nSkipping line 1187624: expected 7 fields, saw 8\\nSkipping line 1187729: expected 7 fields, saw 8\\nSkipping line 1249692: expected 7 fields, saw 8\\n'\nb'Skipping line 38478: expected 7 fields, saw 8\\nSkipping line 98838: expected 7 fields, saw 8\\nSkipping line 118009: expected 7 fields, saw 9\\n'\nb'Skipping line 334949: expected 7 fields, saw 8\\n'\nb'Skipping line 621216: expected 7 fields, saw 8\\n'\nb'Skipping line 780015: expected 7 fields, saw 8\\n'\nb'Skipping line 786628: expected 7 fields, saw 11\\n'\nb'Skipping line 930015: expected 7 fields, saw 8\\nSkipping line 945093: expected 7 fields, saw 8\\n'\nb'Skipping line 1121246: expected 7 fields, saw 8\\nSkipping line 1172530: expected 7 fields, saw 8\\n'\nb'Skipping line 1279095: expected 7 fields, saw 8\\n'\nb'Skipping line 1366262: expected 7 fields, saw 9\\n'\nb'Skipping line 1442815: expected 7 fields, saw 8\\n'\nb'Skipping line 68074: expected 7 fields, saw 8\\n'\nb'Skipping line 311544: expected 7 fields, saw 8\\nSkipping line 349353: expected 7 fields, saw 8\\n'\nb'Skipping line 411939: expected 7 fields, saw 8\\nSkipping line 414511: expected 7 fields, saw 8\\nSkipping line 453690: expected 7 fields, saw 8\\nSkipping line 453725: expected 7 fields, saw 8\\n'\nb'Skipping line 631838: expected 7 fields, saw 8\\nSkipping line 631845: expected 7 fields, saw 9\\nSkipping line 639000: expected 7 fields, saw 8\\n'\nb'Skipping line 710436: expected 7 fields, saw 8\\nSkipping line 731044: expected 7 fields, saw 8\\nSkipping line 731179: expected 7 fields, saw 8\\nSkipping line 761833: expected 7 fields, saw 8\\n'\nb'Skipping line 839789: expected 7 fields, saw 8\\n'\nb'Skipping line 1024014: expected 7 fields, saw 8\\n'\nb'Skipping line 1112613: expected 7 fields, saw 8\\n'\nb'Skipping line 1271099: expected 7 fields, saw 8\\n'\nb'Skipping line 68692: expected 7 fields, saw 8\\nSkipping line 82658: expected 7 fields, saw 8\\nSkipping line 92263: expected 7 fields, saw 8\\n'\nb'Skipping line 338653: expected 7 fields, saw 8\\n'\nb'Skipping line 630196: expected 7 fields, saw 8\\n'\nb'Skipping line 692564: expected 7 fields, saw 8\\nSkipping line 698247: expected 7 fields, saw 8\\nSkipping line 730446: expected 7 fields, saw 8\\nSkipping line 756661: expected 7 fields, saw 8\\n'\n"
    }
   ],
   "source": [
    "import sys\n",
    "import numpy as np\n",
    "from fastText.python.fasttext_module.fasttext.FastText import load_model\n",
    "import pandas as pd \n",
    "import csv\n",
    "\n",
    "\n",
    "df_1 = pd.read_csv(f'data/v1/05-tagged.csv.gz', compression='gzip', escapechar='\\\\', quotechar='\"', encoding = \"utf-8\",  error_bad_lines=False, quoting=csv.QUOTE_NONNUMERIC, sep=\";\")\n",
    "df_2 = pd.read_csv(f'data/v1/06-tagged.csv.gz', compression='gzip', escapechar='\\\\', quotechar='\"', encoding = \"utf-8\",  error_bad_lines=False, quoting=csv.QUOTE_NONNUMERIC, sep=\";\")\n",
    "df_3 = pd.read_csv(f'data/v1/07-tagged.csv.gz', compression='gzip', escapechar='\\\\', quotechar='\"', encoding = \"utf-8\",  error_bad_lines=False, quoting=csv.QUOTE_NONNUMERIC, sep=\";\")\n",
    "df_4 = pd.read_csv(f'data/v1/08-tagged.csv.gz', compression='gzip', escapechar='\\\\', quotechar='\"', encoding = \"utf-8\",  error_bad_lines=False, quoting=csv.QUOTE_NONNUMERIC, sep=\";\")\n",
    "df_5 = pd.read_csv(f'data/v1/09-tagged.csv.gz', compression='gzip', escapechar='\\\\', quotechar='\"', encoding = \"utf-8\",  error_bad_lines=False, quoting=csv.QUOTE_NONNUMERIC, sep=\";\")\n",
    "df_6 = pd.read_csv(f'data/v1/10-tagged.csv.gz', compression='gzip', escapechar='\\\\', quotechar='\"', encoding = \"utf-8\",  error_bad_lines=False, quoting=csv.QUOTE_NONNUMERIC, sep=\";\")\n",
    "df_7 = pd.read_csv(f'data/v1/11-tagged.csv.gz', compression='gzip', escapechar='\\\\', quotechar='\"', encoding = \"utf-8\",  error_bad_lines=False, quoting=csv.QUOTE_NONNUMERIC, sep=\";\")\n",
    "\n"
   ]
  },
  {
   "cell_type": "code",
   "execution_count": 4,
   "metadata": {},
   "outputs": [],
   "source": [
    "df = pd.concat([df_1, df_2, df_3, df_4, df_5, df_6, df_7])"
   ]
  },
  {
   "cell_type": "code",
   "execution_count": 5,
   "metadata": {},
   "outputs": [
    {
     "output_type": "stream",
     "name": "stderr",
     "text": "Warning : `load_model` does not return WordVectorModel or SupervisedModel any more, but a `FastText` object which is very similar.\n"
    }
   ],
   "source": [
    "model_name = \"model_tweet_barbi.bin\"\n",
    "\n",
    "model = load_model(model_name)\n"
   ]
  },
  {
   "cell_type": "code",
   "execution_count": 6,
   "metadata": {},
   "outputs": [],
   "source": [
    "df= df[df['is_spam'] == 0]\n",
    "len(df)\n",
    "\n",
    "from tqdm import tqdm"
   ]
  },
  {
   "cell_type": "code",
   "execution_count": 7,
   "metadata": {},
   "outputs": [
    {
     "output_type": "stream",
     "name": "stderr",
     "text": "100%|██████████| 6364956/6364956 [04:07<00:00, 25713.27it/s]\n"
    }
   ],
   "source": [
    "tqdm.pandas()\n",
    "df['text'] = df['text'].progress_apply(lambda x: functions.preprocess_barbi(x))"
   ]
  },
  {
   "cell_type": "code",
   "execution_count": 8,
   "metadata": {},
   "outputs": [],
   "source": [
    "text_clean = df['text'].tolist()\n"
   ]
  },
  {
   "cell_type": "code",
   "execution_count": 9,
   "metadata": {},
   "outputs": [
    {
     "output_type": "stream",
     "name": "stdout",
     "text": "CPU times: user 1min 12s, sys: 5.65 s, total: 1min 18s\nWall time: 1min 24s\n"
    }
   ],
   "source": [
    "%%time\n",
    "pred = model.predict(text_clean)\n"
   ]
  },
  {
   "cell_type": "code",
   "execution_count": 10,
   "metadata": {},
   "outputs": [],
   "source": [
    "pred_r = utils.reformat_pred(pred, text_clean)\n"
   ]
  },
  {
   "cell_type": "code",
   "execution_count": 11,
   "metadata": {},
   "outputs": [],
   "source": [
    "df_pred = pd.DataFrame(pred_r, columns = ['label','score','text'])\n"
   ]
  },
  {
   "cell_type": "code",
   "execution_count": 18,
   "metadata": {},
   "outputs": [
    {
     "output_type": "execute_result",
     "data": {
      "text/plain": "        label     score                                               text\n0  __label__4  0.822302                                bitcoin the one imv\n1  __label__4  0.945552                                   bitcoin fudsters\n2  __label__4  0.998661                          \"banking bitcoin netflix.\n3  __label__0  0.999039                                        $1000 left!\n4  __label__0  0.612669  never too late buy. the best timing buy $btc, ...",
      "text/html": "<div>\n<style scoped>\n    .dataframe tbody tr th:only-of-type {\n        vertical-align: middle;\n    }\n\n    .dataframe tbody tr th {\n        vertical-align: top;\n    }\n\n    .dataframe thead th {\n        text-align: right;\n    }\n</style>\n<table border=\"1\" class=\"dataframe\">\n  <thead>\n    <tr style=\"text-align: right;\">\n      <th></th>\n      <th>label</th>\n      <th>score</th>\n      <th>text</th>\n    </tr>\n  </thead>\n  <tbody>\n    <tr>\n      <th>0</th>\n      <td>__label__4</td>\n      <td>0.822302</td>\n      <td>bitcoin the one imv</td>\n    </tr>\n    <tr>\n      <th>1</th>\n      <td>__label__4</td>\n      <td>0.945552</td>\n      <td>bitcoin fudsters</td>\n    </tr>\n    <tr>\n      <th>2</th>\n      <td>__label__4</td>\n      <td>0.998661</td>\n      <td>\"banking bitcoin netflix.</td>\n    </tr>\n    <tr>\n      <th>3</th>\n      <td>__label__0</td>\n      <td>0.999039</td>\n      <td>$1000 left!</td>\n    </tr>\n    <tr>\n      <th>4</th>\n      <td>__label__0</td>\n      <td>0.612669</td>\n      <td>never too late buy. the best timing buy $btc, ...</td>\n    </tr>\n  </tbody>\n</table>\n</div>"
     },
     "metadata": {},
     "execution_count": 18
    }
   ],
   "source": [
    "df_pred.head()"
   ]
  },
  {
   "cell_type": "code",
   "execution_count": 20,
   "metadata": {},
   "outputs": [],
   "source": [
    "df['label'] = df_pred['label']\n",
    "df['score'] = df_pred['score']"
   ]
  },
  {
   "cell_type": "code",
   "execution_count": 28,
   "metadata": {},
   "outputs": [],
   "source": [
    "def add_sentiment(df, thr):\n",
    "    df['sentiment_pred_'+str(thr)] = np.where(((df['label'] == '__label__4')&\n",
    "                                    (df['score'] > thr)),1,\n",
    "                                    np.where(((df['label'] == '__label__0')&\n",
    "                                                (df['score'] > thr)), -1, 0))\n",
    "\n",
    "add_sentiment(df, 0)   \n",
    "add_sentiment(df, 0.8)                                                    "
   ]
  },
  {
   "cell_type": "code",
   "execution_count": 31,
   "metadata": {},
   "outputs": [
    {
     "output_type": "execute_result",
     "data": {
      "text/plain": "         date                                               text  \\\n0  2019-05-10                                bitcoin the one imv   \n1  2019-05-10                                   bitcoin fudsters   \n2  2019-05-10                          \"banking bitcoin netflix.   \n3  2019-05-11                                        $1000 left!   \n4  2019-05-11  never too late buy. the best timing buy $btc, ...   \n\n   language_proba  month  is_repeated  is_spam  is_news       label     score  \\\n0        0.980272    5.0        False    False    False  __label__4  0.822302   \n1        0.449887    5.0        False    False     True  __label__4  0.945552   \n2        0.685419    5.0        False    False    False  __label__4  0.998661   \n3        0.247924    5.0        False    False    False  __label__0  0.999039   \n4        0.937032    5.0        False    False    False  __label__0  0.612669   \n\n   sentiment_pred  sentiment_pred_0  sentiment_pred_0.8  \n0               1                 1                   1  \n1               1                 1                   1  \n2               1                 1                   1  \n3              -1                -1                  -1  \n4              -1                -1                   0  ",
      "text/html": "<div>\n<style scoped>\n    .dataframe tbody tr th:only-of-type {\n        vertical-align: middle;\n    }\n\n    .dataframe tbody tr th {\n        vertical-align: top;\n    }\n\n    .dataframe thead th {\n        text-align: right;\n    }\n</style>\n<table border=\"1\" class=\"dataframe\">\n  <thead>\n    <tr style=\"text-align: right;\">\n      <th></th>\n      <th>date</th>\n      <th>text</th>\n      <th>language_proba</th>\n      <th>month</th>\n      <th>is_repeated</th>\n      <th>is_spam</th>\n      <th>is_news</th>\n      <th>label</th>\n      <th>score</th>\n      <th>sentiment_pred</th>\n      <th>sentiment_pred_0</th>\n      <th>sentiment_pred_0.8</th>\n    </tr>\n  </thead>\n  <tbody>\n    <tr>\n      <th>0</th>\n      <td>2019-05-10</td>\n      <td>bitcoin the one imv</td>\n      <td>0.980272</td>\n      <td>5.0</td>\n      <td>False</td>\n      <td>False</td>\n      <td>False</td>\n      <td>__label__4</td>\n      <td>0.822302</td>\n      <td>1</td>\n      <td>1</td>\n      <td>1</td>\n    </tr>\n    <tr>\n      <th>1</th>\n      <td>2019-05-10</td>\n      <td>bitcoin fudsters</td>\n      <td>0.449887</td>\n      <td>5.0</td>\n      <td>False</td>\n      <td>False</td>\n      <td>True</td>\n      <td>__label__4</td>\n      <td>0.945552</td>\n      <td>1</td>\n      <td>1</td>\n      <td>1</td>\n    </tr>\n    <tr>\n      <th>2</th>\n      <td>2019-05-10</td>\n      <td>\"banking bitcoin netflix.</td>\n      <td>0.685419</td>\n      <td>5.0</td>\n      <td>False</td>\n      <td>False</td>\n      <td>False</td>\n      <td>__label__4</td>\n      <td>0.998661</td>\n      <td>1</td>\n      <td>1</td>\n      <td>1</td>\n    </tr>\n    <tr>\n      <th>3</th>\n      <td>2019-05-11</td>\n      <td>$1000 left!</td>\n      <td>0.247924</td>\n      <td>5.0</td>\n      <td>False</td>\n      <td>False</td>\n      <td>False</td>\n      <td>__label__0</td>\n      <td>0.999039</td>\n      <td>-1</td>\n      <td>-1</td>\n      <td>-1</td>\n    </tr>\n    <tr>\n      <th>4</th>\n      <td>2019-05-11</td>\n      <td>never too late buy. the best timing buy $btc, ...</td>\n      <td>0.937032</td>\n      <td>5.0</td>\n      <td>False</td>\n      <td>False</td>\n      <td>False</td>\n      <td>__label__0</td>\n      <td>0.612669</td>\n      <td>-1</td>\n      <td>-1</td>\n      <td>0</td>\n    </tr>\n  </tbody>\n</table>\n</div>"
     },
     "metadata": {},
     "execution_count": 31
    }
   ],
   "source": [
    "df.head()"
   ]
  },
  {
   "cell_type": "code",
   "execution_count": 33,
   "metadata": {},
   "outputs": [],
   "source": [
    "for i_month in range(5, 12):\n",
    "    df_month = df[df['month'] == i_month]\n",
    "\n",
    "    # Guardamos el dataframe del mes actual\n",
    "    df_month.to_csv(f'data/v2/{str(i_month).zfill(2)}-tagged_sentiment.csv.gz',\n",
    "                    index = False, compression='gzip', escapechar='\\\\', quotechar='\"', encoding = \"utf-8\",\n",
    "                    quoting=csv.QUOTE_NONNUMERIC, sep=\";\")\n"
   ]
  },
  {
   "cell_type": "code",
   "execution_count": null,
   "metadata": {},
   "outputs": [],
   "source": []
  },
  {
   "cell_type": "code",
   "execution_count": null,
   "metadata": {},
   "outputs": [],
   "source": [
    "import re\n",
    "\n",
    "def run_regex_pos(text):\n",
    "    regex_pos = 0\n",
    "    if re.match(r'btc.{0,10}(continues)?(still)?(price)?.{0,5}(climb|\\bup\\b|\\brise|\\brising|\\bpump\\bbrink|ð\\x9f\\x93\\x88|ð\\x9f\\x9a\\x80)',text):\n",
    "        regex_pos = 1\n",
    "    if re.match(r'(ð\\x9f\\x9a\\x80|good|successful|profitable).{0,5}btc',text):\n",
    "        regex_pos = 1\n",
    "    return regex_pos \n",
    "\n",
    "def run_regex_neg(text):\n",
    "    regex_neg = 0\n",
    "    if re.match(r'btc.{0,5}(continues)?(still)?(price)?.{0,5}(down|\\bsink|\\brise|\\brising|\\bpump\\bbrink)',text):\n",
    "        regex_neg = 1\n",
    "    if re.match(r'(bad|wrong).{0,5}btc',text):\n",
    "        regex_neg = 1\n",
    "    return regex_neg \n",
    "\n",
    "\n",
    "df_clean['text']= df_clean['text'].apply(lambda x: re.sub('(bitcoin|btc)','btc',x))\n",
    "df_clean['regex_pos'] = df_clean['text'].apply(lambda x: run_regex_pos(x))\n",
    "df_clean['regex_neg'] = df_clean['text'].apply(lambda x: run_regex_neg(x))\n",
    "\n",
    "def preprocess_barbi(text: str) -> str:\n",
    "    text = re.sub('(bitcoin|btc|)','btc',text)\n",
    "    text = re.sub('@[^\\s]+', '', text)\n",
    "    text = re.sub('((www\\.[^\\s]+)|(https?://[^\\s]+))', '', text)\n",
    "    # Remove usernames\n",
    "    text = re.sub('@[^\\s]+', '', text)\n",
    "    # replace hashtags by just words\n",
    "    text = re.sub(r'#([^\\s]+)', r'\\1', text)\n",
    "    # correct all multiple white spaces to a single white space\n",
    "    text = re.sub('[\\s]+', ' ', text)\n",
    "    # Additional clean up : removing words less than 2 chars, and remove space at the beginning and teh end\n",
    "    text = re.sub(r'\\W*\\b\\w{1,2}\\b', '', text)\n",
    "    text = text.strip()\n",
    "    # Fast Text expected format\n",
    "    return text"
   ]
  }
 ],
 "metadata": {
  "kernelspec": {
   "display_name": "venv_p",
   "language": "python",
   "name": "venv_p"
  },
  "language_info": {
   "codemirror_mode": {
    "name": "ipython",
    "version": 3
   },
   "file_extension": ".py",
   "mimetype": "text/x-python",
   "name": "python",
   "nbconvert_exporter": "python",
   "pygments_lexer": "ipython3",
   "version": "3.7.6-final"
  }
 },
 "nbformat": 4,
 "nbformat_minor": 2
}